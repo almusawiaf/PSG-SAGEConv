{
 "cells": [
  {
   "cell_type": "markdown",
   "id": "f5f5f33d",
   "metadata": {},
   "source": [
    "# Patient Similarity Graph Using GNN (SAGEConv)\n"
   ]
  },
  {
   "cell_type": "code",
   "execution_count": 1,
   "id": "f6f2e592",
   "metadata": {},
   "outputs": [
    {
     "name": "stdout",
     "output_type": "stream",
     "text": [
      "1.13.1+cpu\n"
     ]
    }
   ],
   "source": [
    "import pandas as pd\n",
    "import numpy as np\n",
    "import matplotlib.pyplot as plt\n",
    "from scipy.spatial.distance import pdist, squareform\n",
    "\n",
    "import os\n",
    "import os.path as osp\n",
    "\n",
    "import torch\n",
    "import torch_geometric\n",
    "# from torch_geometric.datasets import Planetoid\n",
    "from torch_geometric.data import Data\n",
    "\n",
    "import torch.nn.functional as F\n",
    "from torch_geometric.nn import SAGEConv\n",
    "\n",
    "\n",
    "os.environ['TORCH'] = torch.__version__\n",
    "print(torch.__version__)\n",
    "use_cuda_if_available = False"
   ]
  },
  {
   "cell_type": "code",
   "execution_count": 2,
   "id": "5e974542",
   "metadata": {},
   "outputs": [],
   "source": [
    "def dropping_cols(df, p=80):\n",
    "    #1- count the number of NaN values in each column\n",
    "    #2- calculate the percentage of NaN values in each column\n",
    "    #3- get the list of columns to drop\n",
    "    #4- drop the columns with more than 80% NaN values\n",
    "    nan_counts = df.isna().sum()    \n",
    "    nan_percentages = nan_counts / len(df) * 100 \n",
    "    cols_to_drop = nan_percentages[nan_percentages > p].index.tolist()\n",
    "    df = df.drop(cols_to_drop, axis=1)\n",
    "    return df   "
   ]
  },
  {
   "cell_type": "code",
   "execution_count": 3,
   "id": "1bd87745",
   "metadata": {},
   "outputs": [],
   "source": [
    "def split_mask(n, tr=0.8, vl=0.1, ts=0.1):\n",
    "    import random\n",
    "    train_size = int(n * tr)\n",
    "    val_size = int(n * vl)\n",
    "    test_size = int(n * ts)\n",
    "\n",
    "    # Initialize the three lists\n",
    "    train_list = torch.zeros(n, dtype=torch.bool)\n",
    "    val_list   = torch.zeros(n, dtype=torch.bool)\n",
    "    test_list  = torch.zeros(n, dtype=torch.bool)\n",
    "\n",
    "    indices = [i for i in range(n)]\n",
    "    random.shuffle(indices)\n",
    "\n",
    "    for i in range(n):\n",
    "        j = indices[i]\n",
    "        if i <train_size:\n",
    "            train_list[j] = torch.tensor(True)\n",
    "        elif i>= train_size and i< train_size + val_size:\n",
    "            val_list[j] = torch.tensor(True)\n",
    "        elif i>=train_size + val_size:\n",
    "            test_list[j] = torch.tensor(True)\n",
    "    return train_list, val_list, test_list\n"
   ]
  },
  {
   "cell_type": "markdown",
   "id": "8335632e",
   "metadata": {},
   "source": [
    "# Reading Lung dataset"
   ]
  },
  {
   "cell_type": "code",
   "execution_count": 4,
   "id": "6411856e",
   "metadata": {},
   "outputs": [],
   "source": [
    "path = 'E:\\VCU 2023\\PSN Patient Similarity Network\\GraphAugmentation'\n",
    "original_lung = pd.read_csv(f'{path}/data/Lung/numerical.csv', index_col=0)"
   ]
  },
  {
   "cell_type": "code",
   "execution_count": 5,
   "id": "26dad6d5",
   "metadata": {
    "scrolled": false
   },
   "outputs": [
    {
     "name": "stdout",
     "output_type": "stream",
     "text": [
      "['F1', 'F2', 'F4', 'F5', 'F6', 'F7', 'F8', 'F9', 'F12', 'F13', 'F16', 'F18', 'F19', 'F23', 'F24']\n"
     ]
    }
   ],
   "source": [
    "original_features = list(original_lung.columns)\n",
    "\n",
    "new_features      = [f'F{i}' for i in range(len(original_features))]\n",
    "features_dict     = {new_features[i]: list(original_features)[i] for i in range(len(original_features))}\n",
    "\n",
    "Lung = original_lung\n",
    "Lung = Lung.rename(columns=dict(zip(original_features, new_features)))\n",
    "Lung = dropping_cols(Lung)\n",
    "\n",
    "# Imputing the NaN values to the mean\n",
    "features_to_impute = [i for i in list(Lung.columns) if i not in ['F11', 'F20','F21','F22']]\n",
    "print(features_to_impute)\n",
    "Lung[features_to_impute] = Lung[features_to_impute].fillna(Lung[features_to_impute].mean())\n",
    "Lung.to_csv('data/raw/Lung.csv')"
   ]
  },
  {
   "cell_type": "markdown",
   "id": "40c71ecf",
   "metadata": {},
   "source": [
    "### 1- creting the data.X"
   ]
  },
  {
   "cell_type": "code",
   "execution_count": 6,
   "id": "1a8d71f6",
   "metadata": {},
   "outputs": [
    {
     "name": "stdout",
     "output_type": "stream",
     "text": [
      "torch.Size([773, 15])\n"
     ]
    },
    {
     "name": "stderr",
     "output_type": "stream",
     "text": [
      "C:\\Users\\almusawiaf\\AppData\\Local\\Temp\\ipykernel_17996\\2173150290.py:14: UserWarning: To copy construct from a tensor, it is recommended to use sourceTensor.clone().detach() or sourceTensor.clone().detach().requires_grad_(True), rather than torch.tensor(sourceTensor).\n",
      "  temp.append(torch.tensor(col))\n"
     ]
    }
   ],
   "source": [
    "df = Lung[features_to_impute]\n",
    "# df = df.mul(100).round().astype(int)\n",
    "X = torch.tensor(df.values)\n",
    "\n",
    "num_classes  = X.shape[0]\n",
    "num_features = X.shape[1]\n",
    "\n",
    "print(X.shape)\n",
    "\n",
    "tensors = []\n",
    "for row in X:\n",
    "    temp = []\n",
    "    for col in row:\n",
    "        temp.append(torch.tensor(col))\n",
    "    tensors.append(torch.tensor(temp))\n",
    "\n",
    "X = torch.stack(tensors)\n",
    "X[0]\n",
    "X = X.to(torch.float32)"
   ]
  },
  {
   "cell_type": "markdown",
   "id": "25c8a2ff",
   "metadata": {},
   "source": [
    "### 2- Creating data.edge_index\n",
    "+ finding the similarity matrix SM of the given datafram \n",
    "+ convert the similarity matrix to edge_list"
   ]
  },
  {
   "cell_type": "code",
   "execution_count": 7,
   "id": "4c553de3",
   "metadata": {},
   "outputs": [
    {
     "data": {
      "text/plain": [
       "array([[1.        , 0.05329222, 0.0433273 , ..., 0.06245797, 0.03531149,\n",
       "        0.01812901],\n",
       "       [0.05329222, 1.        , 0.08696928, ..., 0.03601998, 0.03862114,\n",
       "        0.02235329],\n",
       "       [0.0433273 , 0.08696928, 1.        , ..., 0.03296819, 0.04786752,\n",
       "        0.02156027],\n",
       "       ...,\n",
       "       [0.06245797, 0.03601998, 0.03296819, ..., 1.        , 0.02779196,\n",
       "        0.01518994],\n",
       "       [0.03531149, 0.03862114, 0.04786752, ..., 0.02779196, 1.        ,\n",
       "        0.02041917],\n",
       "       [0.01812901, 0.02235329, 0.02156027, ..., 0.01518994, 0.02041917,\n",
       "        1.        ]])"
      ]
     },
     "execution_count": 7,
     "metadata": {},
     "output_type": "execute_result"
    }
   ],
   "source": [
    "SM = pd.DataFrame(1/(1 + squareform(pdist(df, 'euclidean'))), index=df.index, columns=df.index).values\n",
    "SM"
   ]
  },
  {
   "cell_type": "code",
   "execution_count": 8,
   "id": "b7268e8c",
   "metadata": {},
   "outputs": [],
   "source": [
    "def get_edge_index(SM, th=0):\n",
    "    '''\n",
    "    SM: similarity matrix,\n",
    "    th: threshold for edge weight,\n",
    "    return edge_index'''\n",
    "    source = []\n",
    "    target = []\n",
    "    weight = []\n",
    "    for i in range(SM.shape[0]):\n",
    "        for j in range(SM.shape[1]):\n",
    "            if SM[i,j]> th:\n",
    "                source.append(i)\n",
    "                target.append(j)\n",
    "                weight.append(SM[i,j])\n",
    "\n",
    "    return torch.tensor([source, target])\n",
    "\n",
    "edge_index = get_edge_index(SM)\n",
    "# total_edge = {t/100: get_edge_index(SM, t/100).shape[1] for t in range(0, 50)}\n",
    "# total_edge    "
   ]
  },
  {
   "cell_type": "markdown",
   "id": "00a9c61d",
   "metadata": {},
   "source": [
    "### 3- Creating data.Y"
   ]
  },
  {
   "cell_type": "code",
   "execution_count": 9,
   "id": "c3f5de11",
   "metadata": {},
   "outputs": [
    {
     "name": "stdout",
     "output_type": "stream",
     "text": [
      "0.7076326002587322\n",
      "0.08408796895213454\n",
      "0.20827943078913325\n"
     ]
    },
    {
     "data": {
      "text/plain": [
       "torch.Size([773])"
      ]
     },
     "execution_count": 9,
     "metadata": {},
     "output_type": "execute_result"
    }
   ],
   "source": [
    "v = {'NSCLC'        : 0,\n",
    "     'NSCLC Surgery': 1,\n",
    "     'SCLC'         : 2}\n",
    "Y = torch.tensor([v[i] for i in list(Lung['F22'])])\n",
    "\n",
    "print(list(Lung['F22']).count('NSCLC')/773)\n",
    "print(list(Lung['F22']).count('NSCLC Surgery')/773)\n",
    "print(list(Lung['F22']).count('SCLC')/773)\n",
    "\n",
    "\n",
    "Y.shape"
   ]
  },
  {
   "cell_type": "markdown",
   "id": "8a7a1509",
   "metadata": {},
   "source": [
    "### 4- Creating the different masks"
   ]
  },
  {
   "cell_type": "code",
   "execution_count": 10,
   "id": "3a3c1afa",
   "metadata": {},
   "outputs": [],
   "source": [
    "tr_mask, v_mask, ts_mask = split_mask(X.shape[0])"
   ]
  },
  {
   "cell_type": "markdown",
   "id": "7a712b8f",
   "metadata": {},
   "source": [
    "### 5- Creating the data object"
   ]
  },
  {
   "cell_type": "code",
   "execution_count": 11,
   "id": "c6189665",
   "metadata": {},
   "outputs": [
    {
     "name": "stdout",
     "output_type": "stream",
     "text": [
      "15 773\n"
     ]
    },
    {
     "data": {
      "text/plain": [
       "Data(x=[773, 15], edge_index=[2, 597529], y=[773], train_mask=[773], val_mask=[773], test_mask=[773])"
      ]
     },
     "execution_count": 11,
     "metadata": {},
     "output_type": "execute_result"
    }
   ],
   "source": [
    "data = Data(x=X, edge_index = edge_index, y = Y, train_mask = tr_mask, val_mask = v_mask, test_mask = ts_mask)\n",
    "\n",
    "print(num_features,num_classes,)\n",
    "data"
   ]
  },
  {
   "cell_type": "code",
   "execution_count": null,
   "id": "5d2e2e69",
   "metadata": {},
   "outputs": [],
   "source": []
  },
  {
   "cell_type": "code",
   "execution_count": 19,
   "id": "32ab4724",
   "metadata": {},
   "outputs": [
    {
     "name": "stdout",
     "output_type": "stream",
     "text": [
      "Epoch: 010 Val: 0.6494, Test: 0.7308\n",
      "Epoch: 020 Val: 0.6494, Test: 0.7308\n",
      "Epoch: 030 Val: 0.6494, Test: 0.7308\n",
      "Epoch: 040 Val: 0.6494, Test: 0.7308\n",
      "Epoch: 050 Val: 0.6494, Test: 0.7308\n",
      "Epoch: 060 Val: 0.6494, Test: 0.7308\n",
      "Epoch: 070 Val: 0.6494, Test: 0.7308\n",
      "Epoch: 080 Val: 0.6494, Test: 0.7308\n",
      "Epoch: 090 Val: 0.6494, Test: 0.7308\n",
      "Epoch: 100 Val: 0.6494, Test: 0.7308\n",
      "Epoch: 110 Val: 0.6494, Test: 0.7308\n",
      "Epoch: 120 Val: 0.6494, Test: 0.7308\n",
      "Epoch: 130 Val: 0.6494, Test: 0.7308\n",
      "Epoch: 140 Val: 0.6494, Test: 0.7308\n",
      "Epoch: 150 Val: 0.6494, Test: 0.7308\n",
      "Epoch: 160 Val: 0.6494, Test: 0.7308\n",
      "Epoch: 170 Val: 0.6494, Test: 0.7308\n",
      "Epoch: 180 Val: 0.6494, Test: 0.7308\n",
      "Epoch: 190 Val: 0.6494, Test: 0.7308\n",
      "Epoch: 200 Val: 0.6494, Test: 0.7308\n"
     ]
    }
   ],
   "source": [
    "import torch\n",
    "from torch.nn import Linear, ReLU\n",
    "from torch_geometric.nn import SAGEConv\n",
    "# from torch_geometric.datasets import Planetoid\n",
    "import torch.nn.functional as F\n",
    "\n",
    "# Define the dataset\n",
    "# dataset = Planetoid(root='/tmp/Cora', name='Cora')\n",
    "\n",
    "tr_mask, v_mask, ts_mask = split_mask(X.shape[0])\n",
    "data = Data(x=X, edge_index = edge_index, y = Y, train_mask = tr_mask, val_mask = v_mask, test_mask = ts_mask)\n",
    "\n",
    "\n",
    "# Define the model\n",
    "class Net(torch.nn.Module):\n",
    "    def __init__(self):\n",
    "        super(Net, self).__init__()\n",
    "        mid_layer = 10\n",
    "        self.conv1 = SAGEConv(num_features, mid_layer)\n",
    "        self.conv2 = SAGEConv(mid_layer, num_classes)\n",
    "        self.lin1 = Linear(num_classes, 32)\n",
    "        self.lin2 = Linear(32, num_classes)\n",
    "        \n",
    "    def forward(self, x, edge_index):\n",
    "        x = F.relu(self.conv1(x, edge_index))\n",
    "        x = F.dropout(x, training=self.training)\n",
    "        x = F.relu(self.conv2(x, edge_index))\n",
    "        x = F.dropout(x, training=self.training)\n",
    "        x = F.relu(self.lin1(x))\n",
    "        x = self.lin2(x)\n",
    "        return F.log_softmax(x, dim=1)\n",
    "\n",
    "# Initialize the model and define the optimizer\n",
    "model = Net()\n",
    "optimizer = torch.optim.Adam(model.parameters(), lr=0.01)\n",
    "\n",
    "# Train the model\n",
    "def train():\n",
    "    model.train()\n",
    "    optimizer.zero_grad()\n",
    "    out = model(data.x, data.edge_index)\n",
    "    loss = F.nll_loss(out, data.y)\n",
    "    loss.backward()\n",
    "    optimizer.step()\n",
    "\n",
    "# Evaluate the model\n",
    "def test(mask):\n",
    "    model.eval()\n",
    "    out = model(data.x, data.edge_index)\n",
    "    pred = out.argmax(dim=1)\n",
    "    correct = pred[mask] == data.y[mask]\n",
    "    acc = int(correct.sum()) / int(mask.sum())\n",
    "#     acc = pred.eq(data.y).sum().item() / len(data.y)\n",
    "    return acc\n",
    "\n",
    "\n",
    "val_acc_all = []\n",
    "test_acc_all = []\n",
    "for epoch in range(1, 201):\n",
    "    loss = train()\n",
    "    val_acc = test(data.val_mask)\n",
    "    test_acc = test(data.test_mask)\n",
    "    val_acc_all.append(val_acc)\n",
    "    test_acc_all.append(test_acc)\n",
    "    if epoch%10 ==0:\n",
    "        print(f'Epoch: {epoch:03d} Val: {val_acc:.4f}, Test: {test_acc:.4f}')\n"
   ]
  },
  {
   "cell_type": "code",
   "execution_count": 17,
   "id": "be717858",
   "metadata": {},
   "outputs": [
    {
     "data": {
      "image/png": "[encoded data removed]",
      "text/plain": [
       "<Figure size 1200x800 with 1 Axes>"
      ]
     },
     "metadata": {},
     "output_type": "display_data"
    }
   ],
   "source": [
    "import numpy as np\n",
    "\n",
    "plt.figure(figsize=(12,8))\n",
    "plt.plot(np.arange(1, len(val_acc_all) + 1), val_acc_all, label='Validation accuracy', c='blue')\n",
    "plt.plot(np.arange(1, len(test_acc_all) + 1), test_acc_all, label='Testing accuracy', c='red')\n",
    "plt.xlabel('Epochs')\n",
    "plt.ylabel('Accurarcy')\n",
    "plt.title('SAGEConv')\n",
    "plt.legend(loc='lower right', fontsize='x-large')\n",
    "plt.savefig('gat_loss.png')\n",
    "plt.show()"
   ]
  },
  {
   "cell_type": "code",
   "execution_count": 20,
   "id": "66c42b5e",
   "metadata": {},
   "outputs": [
    {
     "name": "stdout",
     "output_type": "stream",
     "text": [
      "Validation set\n",
      "F1 : 0.5112997238981491 \n",
      "confusion matrix: \n",
      "[[50  0  0]\n",
      " [ 6  0  0]\n",
      " [21  0  0]]\n",
      "\n",
      "Test set\n",
      "F1 : 0.617094017094017 \n",
      "confusion matrix: \n",
      "[[57  0  0]\n",
      " [ 8  0  0]\n",
      " [13  0  0]]\n",
      "\n"
     ]
    }
   ],
   "source": [
    "from sklearn.metrics import confusion_matrix, f1_score\n",
    "# Calculate confusion matrix and F1 score\n",
    "mask_val = data.val_mask\n",
    "mask_test = data.test_mask\n",
    "model.eval()\n",
    "\n",
    "out_val = model(data.x, data.edge_index)[mask_val].argmax(dim=1)\n",
    "out_test = model(data.x, data.edge_index)[mask_test].argmax(dim=1)\n",
    "y_true_val = data.y[mask_val]\n",
    "y_true_test = data.y[mask_test]\n",
    "\n",
    "confusion_matrix_val = confusion_matrix(y_true_val, out_val)\n",
    "confusion_matrix_test = confusion_matrix(y_true_test, out_test)\n",
    "f1_score_val = f1_score(y_true_val, out_val, average='weighted')\n",
    "f1_score_test = f1_score(y_true_test, out_test, average='weighted')\n",
    "\n",
    "print(f'Validation set\\nF1 : {f1_score_val} \\nconfusion matrix: \\n{confusion_matrix_val}\\n')\n",
    "print(f'Test set\\nF1 : {f1_score_test} \\nconfusion matrix: \\n{confusion_matrix_test}\\n')\n",
    "\n",
    "\n"
   ]
  },
  {
   "cell_type": "code",
   "execution_count": null,
   "id": "809fcb28",
   "metadata": {},
   "outputs": [],
   "source": []
  }
 ],
 "metadata": {
  "kernelspec": {
   "display_name": "Python 3 (ipykernel)",
   "language": "python",
   "name": "python3"
  },
  "language_info": {
   "codemirror_mode": {
    "name": "ipython",
    "version": 3
   },
   "file_extension": ".py",
   "mimetype": "text/x-python",
   "name": "python",
   "nbconvert_exporter": "python",
   "pygments_lexer": "ipython3",
   "version": "3.9.12"
  }
 },
 "nbformat": 4,
 "nbformat_minor": 5
}
